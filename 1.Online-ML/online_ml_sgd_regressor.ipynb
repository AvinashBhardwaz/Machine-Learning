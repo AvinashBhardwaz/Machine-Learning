{
 "cells": [
  {
   "cell_type": "code",
   "execution_count": 3,
   "metadata": {
    "colab": {
     "base_uri": "https://localhost:8080/"
    },
    "id": "NGCMYXJi-SYg",
    "outputId": "ee8f8425-c53e-45ab-ca90-15b28256e76b"
   },
   "outputs": [
    {
     "name": "stdout",
     "output_type": "stream",
     "text": [
      "Time taken for partial fit: 0.007698774337768555 seconds\n"
     ]
    }
   ],
   "source": [
    "# Import necessary libraries\n",
    "import numpy as np  # For generating random data\n",
    "from sklearn import linear_model  # For using the SGDRegressor model from Scikit-learn\n",
    "import time  # To measure the time taken for model fitting\n",
    "\n",
    "# Set the number of samples and features\n",
    "n_samples, n_features = 1, 500\n",
    "\n",
    "# Generate random target values (y) and feature data (X)\n",
    "y = np.random.randn(n_samples)  # Generate random target values\n",
    "X = np.random.randn(n_samples, n_features)  # Generate random feature matrix\n",
    "\n",
    "# Initialize the Stochastic Gradient Descent Regressor\n",
    "clf = linear_model.SGDRegressor()\n",
    "\n",
    "# Measure the time taken to fit the model on the first batch of data\n",
    "start_time = time.time()  # Start the timer\n",
    "clf.partial_fit(X, y)  # Train the model on the first batch of data\n",
    "elapsed_time = time.time() - start_time  # Calculate elapsed time\n",
    "\n",
    "# Print the time taken to fit the model\n",
    "print(f\"Time taken for partial fit: {elapsed_time} seconds\")\n",
    "\n",
    "# Generate a new batch of random data\n",
    "y = np.random.randn(n_samples)  # New random target values\n",
    "X = np.random.randn(n_samples, n_features)  # New random feature matrix"
   ]
  },
  {
   "cell_type": "code",
   "execution_count": 3,
   "metadata": {},
   "outputs": [
    {
     "data": {
      "text/html": [
       "<style>#sk-container-id-1 {color: black;}#sk-container-id-1 pre{padding: 0;}#sk-container-id-1 div.sk-toggleable {background-color: white;}#sk-container-id-1 label.sk-toggleable__label {cursor: pointer;display: block;width: 100%;margin-bottom: 0;padding: 0.3em;box-sizing: border-box;text-align: center;}#sk-container-id-1 label.sk-toggleable__label-arrow:before {content: \"▸\";float: left;margin-right: 0.25em;color: #696969;}#sk-container-id-1 label.sk-toggleable__label-arrow:hover:before {color: black;}#sk-container-id-1 div.sk-estimator:hover label.sk-toggleable__label-arrow:before {color: black;}#sk-container-id-1 div.sk-toggleable__content {max-height: 0;max-width: 0;overflow: hidden;text-align: left;background-color: #f0f8ff;}#sk-container-id-1 div.sk-toggleable__content pre {margin: 0.2em;color: black;border-radius: 0.25em;background-color: #f0f8ff;}#sk-container-id-1 input.sk-toggleable__control:checked~div.sk-toggleable__content {max-height: 200px;max-width: 100%;overflow: auto;}#sk-container-id-1 input.sk-toggleable__control:checked~label.sk-toggleable__label-arrow:before {content: \"▾\";}#sk-container-id-1 div.sk-estimator input.sk-toggleable__control:checked~label.sk-toggleable__label {background-color: #d4ebff;}#sk-container-id-1 div.sk-label input.sk-toggleable__control:checked~label.sk-toggleable__label {background-color: #d4ebff;}#sk-container-id-1 input.sk-hidden--visually {border: 0;clip: rect(1px 1px 1px 1px);clip: rect(1px, 1px, 1px, 1px);height: 1px;margin: -1px;overflow: hidden;padding: 0;position: absolute;width: 1px;}#sk-container-id-1 div.sk-estimator {font-family: monospace;background-color: #f0f8ff;border: 1px dotted black;border-radius: 0.25em;box-sizing: border-box;margin-bottom: 0.5em;}#sk-container-id-1 div.sk-estimator:hover {background-color: #d4ebff;}#sk-container-id-1 div.sk-parallel-item::after {content: \"\";width: 100%;border-bottom: 1px solid gray;flex-grow: 1;}#sk-container-id-1 div.sk-label:hover label.sk-toggleable__label {background-color: #d4ebff;}#sk-container-id-1 div.sk-serial::before {content: \"\";position: absolute;border-left: 1px solid gray;box-sizing: border-box;top: 0;bottom: 0;left: 50%;z-index: 0;}#sk-container-id-1 div.sk-serial {display: flex;flex-direction: column;align-items: center;background-color: white;padding-right: 0.2em;padding-left: 0.2em;position: relative;}#sk-container-id-1 div.sk-item {position: relative;z-index: 1;}#sk-container-id-1 div.sk-parallel {display: flex;align-items: stretch;justify-content: center;background-color: white;position: relative;}#sk-container-id-1 div.sk-item::before, #sk-container-id-1 div.sk-parallel-item::before {content: \"\";position: absolute;border-left: 1px solid gray;box-sizing: border-box;top: 0;bottom: 0;left: 50%;z-index: -1;}#sk-container-id-1 div.sk-parallel-item {display: flex;flex-direction: column;z-index: 1;position: relative;background-color: white;}#sk-container-id-1 div.sk-parallel-item:first-child::after {align-self: flex-end;width: 50%;}#sk-container-id-1 div.sk-parallel-item:last-child::after {align-self: flex-start;width: 50%;}#sk-container-id-1 div.sk-parallel-item:only-child::after {width: 0;}#sk-container-id-1 div.sk-dashed-wrapped {border: 1px dashed gray;margin: 0 0.4em 0.5em 0.4em;box-sizing: border-box;padding-bottom: 0.4em;background-color: white;}#sk-container-id-1 div.sk-label label {font-family: monospace;font-weight: bold;display: inline-block;line-height: 1.2em;}#sk-container-id-1 div.sk-label-container {text-align: center;}#sk-container-id-1 div.sk-container {/* jupyter's `normalize.less` sets `[hidden] { display: none; }` but bootstrap.min.css set `[hidden] { display: none !important; }` so we also need the `!important` here to be able to override the default hidden behavior on the sphinx rendered scikit-learn.org. See: https://github.com/scikit-learn/scikit-learn/issues/21755 */display: inline-block !important;position: relative;}#sk-container-id-1 div.sk-text-repr-fallback {display: none;}</style><div id=\"sk-container-id-1\" class=\"sk-top-container\"><div class=\"sk-text-repr-fallback\"><pre>SGDRegressor()</pre><b>In a Jupyter environment, please rerun this cell to show the HTML representation or trust the notebook. <br />On GitHub, the HTML representation is unable to render, please try loading this page with nbviewer.org.</b></div><div class=\"sk-container\" hidden><div class=\"sk-item\"><div class=\"sk-estimator sk-toggleable\"><input class=\"sk-toggleable__control sk-hidden--visually\" id=\"sk-estimator-id-1\" type=\"checkbox\" checked><label for=\"sk-estimator-id-1\" class=\"sk-toggleable__label sk-toggleable__label-arrow\">SGDRegressor</label><div class=\"sk-toggleable__content\"><pre>SGDRegressor()</pre></div></div></div></div></div>"
      ],
      "text/plain": [
       "SGDRegressor()"
      ]
     },
     "execution_count": 3,
     "metadata": {},
     "output_type": "execute_result"
    }
   ],
   "source": [
    "# Perform another partial fit on the new data\n",
    "clf.partial_fit(X, y)  # Train the model on the second batch of data"
   ]
  },
  {
   "cell_type": "code",
   "execution_count": 1,
   "metadata": {},
   "outputs": [],
   "source": [
    "# Set the number of samples and features\n",
    "n_samples, n_features = 1, 500"
   ]
  },
  {
   "cell_type": "code",
   "execution_count": 4,
   "metadata": {},
   "outputs": [],
   "source": [
    "# Generate random target values (y) and feature data (X)\n",
    "y = np.random.randn(n_samples)  # Generate random target values\n",
    "X = np.random.randn(n_samples, n_features)  # Generate random feature matrix"
   ]
  },
  {
   "cell_type": "code",
   "execution_count": 5,
   "metadata": {},
   "outputs": [
    {
     "data": {
      "text/plain": [
       "array([[-0.19335432,  1.61301449,  0.35152921,  1.17137857,  2.726847  ,\n",
       "         0.13044018, -0.80867168,  0.79727817,  0.35993345,  0.12497178,\n",
       "         0.01935395,  0.04587973, -1.14205047, -0.50513632,  0.46365065,\n",
       "         0.18447075, -0.61440293,  0.76373746, -1.8531817 ,  0.51150663,\n",
       "        -2.29761454,  0.36750254, -0.10818535,  0.60684574, -0.70986764,\n",
       "        -1.17548297,  0.44977827,  0.66831775,  0.68045204,  0.45265928,\n",
       "        -0.41164506,  1.21198024,  0.55049144,  1.04879544,  2.25094721,\n",
       "         0.25744914,  0.3537884 ,  0.85631556,  0.84471195,  0.6230836 ,\n",
       "        -1.64582597, -0.06633356,  0.54900518, -0.39279865,  0.79785343,\n",
       "        -0.14629417,  1.06981258, -0.26413047,  1.01517745,  0.10212005,\n",
       "         1.24032431,  0.49952931,  0.1731386 ,  1.14600733, -1.2036798 ,\n",
       "         0.20810317, -0.67356482,  0.7769539 , -1.0226649 ,  1.06172361,\n",
       "        -0.52599294,  0.44048619,  0.53693742, -0.53712717,  0.92153751,\n",
       "         0.01940214,  3.13638629, -1.35201369, -1.05556879, -1.27632361,\n",
       "        -0.31193683,  0.22623022,  1.67906097, -1.05320723, -0.25935073,\n",
       "        -1.16146666, -1.83127302,  0.61606564,  0.45731436,  1.15507938,\n",
       "        -0.20811481, -1.57412689,  0.57375683,  1.69216386,  0.78428277,\n",
       "         2.7968342 , -0.9742221 , -0.45014041, -2.20559544,  0.66908363,\n",
       "        -0.13127568, -0.8641734 ,  0.72422989,  0.30710526,  0.15824075,\n",
       "         0.32448281, -0.65131435,  1.18453834, -0.20753523,  0.68438816,\n",
       "         1.08625055, -0.51109271, -0.92239373,  1.51064896, -0.56465862,\n",
       "         0.13197943,  1.77796496, -0.05431115,  0.84729875, -1.2436124 ,\n",
       "        -1.19733216,  1.23337463, -0.93412386, -1.10433101, -0.65080229,\n",
       "        -0.48761175, -0.14859337, -2.90668511, -0.00603783,  0.35426314,\n",
       "        -1.31967752, -0.77117048, -0.6793698 ,  1.50160887,  0.18222388,\n",
       "         0.63105108, -0.50867353,  1.01218543,  0.55826146, -0.37700362,\n",
       "         0.16415243, -0.68714722, -3.11360471,  0.61589773,  0.03660062,\n",
       "        -0.25699238,  0.50747783,  0.20725548,  0.48629032, -0.21670554,\n",
       "         0.5610324 ,  0.18004434,  0.42939017,  0.01444215,  0.74833907,\n",
       "         0.5709435 , -0.72480195, -1.23697993, -1.45901802, -0.64748118,\n",
       "        -0.75976426, -0.03143944,  1.05586034, -1.11398629, -1.01179253,\n",
       "        -0.90367241, -0.45418046, -0.74788323,  2.19269683, -0.70620448,\n",
       "        -0.03509112,  1.17263768, -1.1995703 , -2.15369479,  0.84265102,\n",
       "        -0.18276494,  0.43187809,  0.24679847,  1.62740576, -2.73673941,\n",
       "         0.54315991,  1.08647744, -0.24403497,  0.22697143,  0.99314088,\n",
       "         0.59577282,  2.3048756 ,  0.65292939,  1.05056419,  0.25639145,\n",
       "         0.88332345, -0.80468418, -0.50389043,  0.78932312,  0.46037522,\n",
       "        -0.83241662, -0.36849517, -0.36754009,  1.67616228,  0.11223566,\n",
       "         0.67179803,  0.75286276, -0.41851508,  0.60414592,  0.2058859 ,\n",
       "        -0.23672973,  0.37844552, -0.62428205, -0.86218979, -0.30321908,\n",
       "        -0.40189363, -0.93593911,  0.15187685,  0.89975492,  0.8014071 ,\n",
       "         0.71264255, -0.5823565 , -1.5172909 , -0.46227392, -0.53586707,\n",
       "        -0.62802578,  2.58432766,  0.36754012, -0.54779586, -0.74965619,\n",
       "        -0.89722415, -0.42127106, -1.07389345, -1.126901  , -0.39618467,\n",
       "         0.76519599, -0.19299423, -0.63160878,  0.71239245,  1.96836741,\n",
       "        -1.91567922, -1.68125774,  0.20619692,  1.0067786 , -0.14277739,\n",
       "        -0.24112864, -0.22111743, -1.58227473, -1.86785938,  2.22180688,\n",
       "        -1.12020266, -1.69713076,  0.49037009, -1.34003642, -0.0062728 ,\n",
       "        -0.08714698, -0.21024185, -0.12277851,  0.4185075 ,  1.12694444,\n",
       "        -0.93844226,  0.51089173,  0.43002644,  2.271931  ,  0.59904413,\n",
       "        -1.16643374, -0.34764468,  1.43050538, -0.43587441,  0.16585244,\n",
       "         0.00996038,  0.46615105, -1.68006429, -0.94767146,  0.01622344,\n",
       "        -0.51844076,  1.23057362, -0.15007636, -0.45422524,  0.23693617,\n",
       "        -0.1072438 , -0.32793729,  2.65739353,  0.85006175, -1.36355722,\n",
       "         1.71307333,  0.98983014, -1.86951196,  0.87863982, -0.7233025 ,\n",
       "        -0.65774426,  1.0757836 , -0.62010081, -0.78188248, -1.2846291 ,\n",
       "        -0.15193858, -0.5713993 ,  0.33473353, -1.19537756,  0.28795773,\n",
       "        -2.14952917, -0.62675497, -1.51285124,  1.11782973,  1.8178772 ,\n",
       "        -1.00867022, -1.27375449,  1.37311346,  0.53081011,  0.53169248,\n",
       "        -1.75550637,  1.17212761, -0.2572198 ,  0.67652308, -0.64322284,\n",
       "         2.4470537 , -1.10537686, -0.77090037,  0.4680557 ,  0.33497639,\n",
       "        -0.89503274,  0.55321475,  0.81117944, -0.03572242, -0.99967221,\n",
       "         0.0888388 , -0.99411731,  0.49693017,  1.05054253, -1.32278   ,\n",
       "        -0.78702879,  0.22074107, -0.69197842, -0.13704994,  1.36501412,\n",
       "        -0.88178693,  0.76917056,  0.82452481,  0.11180992, -1.50710076,\n",
       "        -1.70481538,  0.33016077, -0.59757123,  0.20727037, -1.01810651,\n",
       "        -0.26257808, -2.24787687,  1.45620271,  0.28557748, -0.95907538,\n",
       "         1.65681409,  1.21564239, -0.01440582,  0.81397961,  0.83866289,\n",
       "         0.02621641, -2.9486612 ,  0.81374308, -1.0884965 , -0.31858055,\n",
       "         0.29123361,  0.47198496,  0.88637325,  2.15146787,  0.05089976,\n",
       "        -1.20488036, -0.49599121,  1.64972324, -0.24257327, -1.03235537,\n",
       "        -0.51344331, -1.04596138, -0.2520653 , -1.43975287, -1.75305482,\n",
       "         0.82149759,  0.82542968,  1.74878684, -0.78236763, -0.07495426,\n",
       "         1.24919831,  0.80296564,  0.59687151,  1.3075843 , -0.5734208 ,\n",
       "        -0.06953023,  1.08902473,  0.09372141,  0.80734828, -1.51658162,\n",
       "         0.74268508,  0.320039  ,  0.28431399, -0.2077386 ,  0.21180396,\n",
       "         1.55991179,  0.05006987, -0.17240627,  0.33641392,  1.07357473,\n",
       "         0.50523267, -0.78351172,  3.35431644,  0.31809178,  0.91544731,\n",
       "         1.41538954, -0.81289416,  0.20770104,  0.39697408,  0.03476387,\n",
       "         1.05396922,  1.42971804, -0.44940537, -1.08781838,  0.52531685,\n",
       "        -0.42646324, -0.30452051,  1.90487302,  0.01867488, -2.11690918,\n",
       "         0.9530761 , -1.24100352,  1.26782075, -0.78192644, -0.0957305 ,\n",
       "         0.89240954, -0.10032026, -0.27792319, -0.6164568 , -2.32869654,\n",
       "        -0.1774527 ,  1.45934899,  0.38674425, -0.45489895,  0.75575778,\n",
       "        -0.97980401,  0.90397813,  0.6474268 , -0.13406935, -0.36280931,\n",
       "         1.00598182,  0.37079529, -1.19259204, -0.32961558, -1.44377801,\n",
       "        -2.46566393, -0.55024759, -1.15538234,  0.60053482,  1.45256575,\n",
       "        -0.318575  ,  0.94976013, -0.6673042 , -0.21614752, -0.06283281,\n",
       "         1.2799124 , -0.19211359,  0.65264253, -1.27509189,  1.74733666,\n",
       "         0.37714946, -0.61042403,  0.11475579,  0.88700426,  0.32213672,\n",
       "        -0.73940284,  1.06830742,  1.09449931,  1.4951508 , -0.59374226,\n",
       "         1.21650622,  0.73777593,  0.40511436, -0.3580349 , -0.05709384,\n",
       "         1.32379443, -1.93078993, -0.82564863, -0.15395889,  0.54577377,\n",
       "        -0.65180251, -0.07555145,  0.31278465,  0.42167486,  0.10459916,\n",
       "         0.38170762,  0.02040185,  0.95547141,  0.84581309,  2.51710799,\n",
       "         1.1570505 , -0.7890441 ,  0.1965456 ,  0.22092839, -1.14291942,\n",
       "        -0.6891137 ,  0.5470119 , -0.63217392, -2.07673963,  0.47101855,\n",
       "         0.00393234,  0.85082356, -0.10580828, -1.18808745, -0.75853591,\n",
       "         0.33962493,  1.4170373 , -1.57534905, -0.21327077,  0.60762768,\n",
       "        -1.55477133,  0.4257043 , -0.50939171,  1.19967999, -1.46040238]])"
      ]
     },
     "execution_count": 5,
     "metadata": {},
     "output_type": "execute_result"
    }
   ],
   "source": [
    "X"
   ]
  }
 ],
 "metadata": {
  "colab": {
   "name": "online-ml.ipynb",
   "provenance": []
  },
  "kernelspec": {
   "display_name": "Python 3 (ipykernel)",
   "language": "python",
   "name": "python3"
  },
  "language_info": {
   "codemirror_mode": {
    "name": "ipython",
    "version": 3
   },
   "file_extension": ".py",
   "mimetype": "text/x-python",
   "name": "python",
   "nbconvert_exporter": "python",
   "pygments_lexer": "ipython3",
   "version": "3.11.4"
  }
 },
 "nbformat": 4,
 "nbformat_minor": 1
}
